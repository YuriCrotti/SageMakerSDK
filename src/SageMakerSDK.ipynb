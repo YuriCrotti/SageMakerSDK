{
 "cells": [
  {
   "cell_type": "markdown",
   "id": "6d939446",
   "metadata": {},
   "source": [
    "## Install libs and SageMaker"
   ]
  },
  {
   "cell_type": "code",
   "execution_count": null,
   "id": "f0fb73a5",
   "metadata": {
    "scrolled": true
   },
   "outputs": [],
   "source": [
    "!pip install -U pip\n",
    "!pip install sagemaker==2.15.3\n",
    "!pip install boto3==1.16.2\n",
    "!pip install pandas==1.0.1\n",
    "!pip install numpy==1.18.1\n",
    "!pip install matplotlib==3.3.3\n",
    "!pip install scikit-learn==0.24.0"
   ]
  },
  {
   "cell_type": "markdown",
   "id": "5037a83f",
   "metadata": {},
   "source": [
    "## Import libs and create constant "
   ]
  },
  {
   "cell_type": "code",
   "execution_count": 1,
   "id": "eabb105d",
   "metadata": {},
   "outputs": [],
   "source": [
    "import os\n",
    "import io\n",
    "import json\n",
    "import time\n",
    "import numpy as np\n",
    "import pandas as pd\n",
    "import matplotlib.pyplot as plt\n",
    "\n",
    "from sklearn.metrics import accuracy_score\n",
    "from sklearn.metrics import classification_report\n",
    "from sklearn.metrics import confusion_matrix\n",
    "from sklearn.metrics import ConfusionMatrixDisplay\n",
    "\n",
    "from time import strftime, gmtime"
   ]
  },
  {
   "cell_type": "code",
   "execution_count": 2,
   "id": "e245ff07",
   "metadata": {},
   "outputs": [],
   "source": [
    "import sys\n",
    "import os\n",
    "\n",
    "sys.path.append(\"./\")"
   ]
  },
  {
   "cell_type": "code",
   "execution_count": 3,
   "id": "d42dcb07",
   "metadata": {},
   "outputs": [],
   "source": [
    "# Import lib boto3\n",
    "import boto3"
   ]
  },
  {
   "cell_type": "code",
   "execution_count": 4,
   "id": "ce7e52c3",
   "metadata": {},
   "outputs": [],
   "source": [
    "# Create session Boto3\n",
    "session_boto = boto3.Session(region_name='us-east-1')"
   ]
  },
  {
   "cell_type": "code",
   "execution_count": 5,
   "id": "d341b1c6",
   "metadata": {},
   "outputs": [],
   "source": [
    "# Import to get de role \n",
    "from sagemaker import get_execution_role"
   ]
  },
  {
   "cell_type": "code",
   "execution_count": 6,
   "id": "9f70ab47",
   "metadata": {},
   "outputs": [],
   "source": [
    "# Save de role \n",
    "ROLE = get_execution_role()"
   ]
  },
  {
   "cell_type": "code",
   "execution_count": null,
   "id": "9fc39232",
   "metadata": {},
   "outputs": [],
   "source": [
    "print(ROLE)"
   ]
  },
  {
   "cell_type": "code",
   "execution_count": 8,
   "id": "e5394684",
   "metadata": {},
   "outputs": [],
   "source": [
    "# Import SageMaker SDK\n",
    "import sagemaker"
   ]
  },
  {
   "cell_type": "code",
   "execution_count": 9,
   "id": "df2b327e",
   "metadata": {},
   "outputs": [],
   "source": [
    "# Create a session in SageMaker SDK with the boto session.\n",
    "session_sagemaker_sdk = sagemaker.Session(boto_session=session_boto)"
   ]
  },
  {
   "cell_type": "code",
   "execution_count": 10,
   "id": "7e83f207",
   "metadata": {},
   "outputs": [],
   "source": [
    "session_sagemaker_boto = boto3.Session().client('sagemaker')"
   ]
  },
  {
   "cell_type": "code",
   "execution_count": 11,
   "id": "5691089f",
   "metadata": {},
   "outputs": [],
   "source": [
    "# Bucket name.\n",
    "BUCKET ='mybucketmlyci'\n",
    "\n",
    "# tag data \n",
    "TAG_DATA = 'data'\n",
    "\n",
    "# tag model\n",
    "TAG_MODEL = 'model'\n",
    "\n",
    "# Region \n",
    "REGION = boto3.Session().region_name\n",
    "\n",
    "SEED = 42"
   ]
  },
  {
   "cell_type": "code",
   "execution_count": 12,
   "id": "ca9cd6cb",
   "metadata": {},
   "outputs": [],
   "source": [
    "# dict dir data\n",
    "dict_dir_data = {\n",
    "    \"train\": \"../data/df_bytebank_treino.csv\",\n",
    "    \"test\": \"../data/df_bytebank_teste.csv\",\n",
    "    \"validation\": \"../data/df_bytebank_validacao.csv\",    \n",
    "}"
   ]
  },
  {
   "cell_type": "markdown",
   "id": "5e1c2ae3",
   "metadata": {},
   "source": [
    "## Dir S3 and Training Inputs"
   ]
  },
  {
   "cell_type": "code",
   "execution_count": 13,
   "id": "c6894f99",
   "metadata": {},
   "outputs": [],
   "source": [
    "bytebank_train_dir = session_sagemaker_sdk.upload_data(path=dict_dir_data['train'],\n",
    "                                                       bucket=BUCKET,\n",
    "                                                       key_prefix=f'{TAG_DATA}/train')"
   ]
  },
  {
   "cell_type": "code",
   "execution_count": 14,
   "id": "4ffb9275",
   "metadata": {},
   "outputs": [
    {
     "data": {
      "text/plain": [
       "'s3://mybucketmlyci/data/train/df_bytebank_treino.csv'"
      ]
     },
     "execution_count": 14,
     "metadata": {},
     "output_type": "execute_result"
    }
   ],
   "source": [
    "bytebank_train_dir"
   ]
  },
  {
   "cell_type": "code",
   "execution_count": 15,
   "id": "c271327f",
   "metadata": {},
   "outputs": [],
   "source": [
    "bytebank_test_dir = session_sagemaker_sdk.upload_data(path=dict_dir_data['test'],\n",
    "                                                      bucket=BUCKET,\n",
    "                                                      key_prefix=f'{TAG_DATA}/test')"
   ]
  },
  {
   "cell_type": "code",
   "execution_count": 16,
   "id": "48d7bcd5",
   "metadata": {},
   "outputs": [
    {
     "data": {
      "text/plain": [
       "'s3://mybucketmlyci/data/test/df_bytebank_teste.csv'"
      ]
     },
     "execution_count": 16,
     "metadata": {},
     "output_type": "execute_result"
    }
   ],
   "source": [
    "bytebank_test_dir"
   ]
  },
  {
   "cell_type": "code",
   "execution_count": 17,
   "id": "24d0d328",
   "metadata": {},
   "outputs": [],
   "source": [
    "bytebank_validation_dir = session_sagemaker_sdk.upload_data(path=dict_dir_data['validation'],\n",
    "                                                            bucket=BUCKET,\n",
    "                                                            key_prefix=f'{TAG_DATA}/validation')"
   ]
  },
  {
   "cell_type": "code",
   "execution_count": 18,
   "id": "97c49bcb",
   "metadata": {},
   "outputs": [
    {
     "data": {
      "text/plain": [
       "'s3://mybucketmlyci/data/validation/df_bytebank_validacao.csv'"
      ]
     },
     "execution_count": 18,
     "metadata": {},
     "output_type": "execute_result"
    }
   ],
   "source": [
    "bytebank_validation_dir"
   ]
  },
  {
   "cell_type": "code",
   "execution_count": 19,
   "id": "0454537d",
   "metadata": {},
   "outputs": [],
   "source": [
    "s3_input_train =sagemaker.TrainingInput(s3_data=bytebank_train_dir,\n",
    "                                        content_type='csv')"
   ]
  },
  {
   "cell_type": "code",
   "execution_count": 20,
   "id": "67b4e137",
   "metadata": {},
   "outputs": [],
   "source": [
    "s3_input_test =sagemaker.TrainingInput(s3_data=bytebank_test_dir,\n",
    "                                        content_type='csv')"
   ]
  },
  {
   "cell_type": "code",
   "execution_count": 21,
   "id": "154a3697",
   "metadata": {},
   "outputs": [],
   "source": [
    "s3_input_validation =sagemaker.TrainingInput(s3_data=bytebank_validation_dir,\n",
    "                                        content_type='csv')"
   ]
  },
  {
   "cell_type": "markdown",
   "id": "9af24410",
   "metadata": {},
   "source": [
    "## Sage Maker built-in images"
   ]
  },
  {
   "cell_type": "code",
   "execution_count": 22,
   "id": "1e070b33",
   "metadata": {},
   "outputs": [],
   "source": [
    "#  Import images_uri\n",
    "from sagemaker import image_uris"
   ]
  },
  {
   "cell_type": "code",
   "execution_count": 23,
   "id": "493d73ac",
   "metadata": {},
   "outputs": [],
   "source": [
    "# Load image xgboost\n",
    "container = \\\n",
    "    image_uris.retrieve(\n",
    "    framework='xgboost',\n",
    "    region=REGION,\n",
    "    version='0.90-2'\n",
    ")"
   ]
  },
  {
   "cell_type": "code",
   "execution_count": null,
   "id": "cf7192bc",
   "metadata": {},
   "outputs": [],
   "source": [
    "container"
   ]
  },
  {
   "cell_type": "markdown",
   "id": "ea39a2f4",
   "metadata": {},
   "source": [
    "## Model estimator and construction"
   ]
  },
  {
   "cell_type": "code",
   "execution_count": 25,
   "id": "9a763913",
   "metadata": {},
   "outputs": [],
   "source": [
    "# Import estimator SageMaker\n",
    "from sagemaker import estimator"
   ]
  },
  {
   "cell_type": "code",
   "execution_count": 26,
   "id": "908ebc5c",
   "metadata": {},
   "outputs": [],
   "source": [
    "# Create estimator \n",
    "estimator_modelo_xgb = estimator.Estimator( image_uri=container,\n",
    "                                            role=ROLE,\n",
    "                                            instance_count=1,\n",
    "                                            instance_type='ml.m4.xlarge',\n",
    "                                            output_path=f's3://{BUCKET}/{TAG_MODEL}',\n",
    "                                            base_job_name='bytebankPythonSDK',\n",
    "                                            sagemaker_session=session_sagemaker_sdk)"
   ]
  },
  {
   "cell_type": "code",
   "execution_count": 27,
   "id": "a4e1766b",
   "metadata": {},
   "outputs": [
    {
     "data": {
      "text/plain": [
       "<sagemaker.estimator.Estimator at 0x7f06c739cc70>"
      ]
     },
     "execution_count": 27,
     "metadata": {},
     "output_type": "execute_result"
    }
   ],
   "source": [
    "estimator_modelo_xgb"
   ]
  },
  {
   "cell_type": "markdown",
   "id": "a6b26a9d",
   "metadata": {},
   "source": [
    "## Model hyperparameters"
   ]
  },
  {
   "cell_type": "code",
   "execution_count": 28,
   "id": "5904b205",
   "metadata": {},
   "outputs": [],
   "source": [
    "# set hyperparameters\n",
    "estimator_modelo_xgb.set_hyperparameters(\n",
    "    max_depth=5,\n",
    "    eta=0.3,\n",
    "    eval_metric='error',\n",
    "    seed=SEED,\n",
    "    num_round=100,\n",
    "    objective='binary:hinge'\n",
    ")"
   ]
  },
  {
   "cell_type": "markdown",
   "id": "cec6bd70",
   "metadata": {},
   "source": [
    "## Model Training"
   ]
  },
  {
   "cell_type": "code",
   "execution_count": null,
   "id": "3df8be02",
   "metadata": {},
   "outputs": [],
   "source": [
    "estimator_modelo_xgb.fit({\n",
    "    'train': s3_input_train,\n",
    "    'validation': s3_input_validation\n",
    "})"
   ]
  },
  {
   "cell_type": "markdown",
   "id": "57a25ceb",
   "metadata": {},
   "source": [
    "## Deploying the model - endpoint"
   ]
  },
  {
   "cell_type": "code",
   "execution_count": 30,
   "id": "901b8519",
   "metadata": {},
   "outputs": [],
   "source": [
    "# Import from the CSV serializer \n",
    "from sagemaker.serializers import CSVSerializer"
   ]
  },
  {
   "cell_type": "code",
   "execution_count": 31,
   "id": "119dedfd",
   "metadata": {},
   "outputs": [],
   "source": [
    "# # definition of serialization object\n",
    "serializer = CSVSerializer()"
   ]
  },
  {
   "cell_type": "code",
   "execution_count": 32,
   "id": "368f6874",
   "metadata": {},
   "outputs": [
    {
     "data": {
      "text/plain": [
       "<sagemaker.serializers.CSVSerializer at 0x7f06c75a01f0>"
      ]
     },
     "execution_count": 32,
     "metadata": {},
     "output_type": "execute_result"
    }
   ],
   "source": [
    "serializer"
   ]
  },
  {
   "cell_type": "code",
   "execution_count": 33,
   "id": "368acfb5",
   "metadata": {},
   "outputs": [
    {
     "name": "stdout",
     "output_type": "stream",
     "text": [
      "---------!"
     ]
    }
   ],
   "source": [
    "# Deploy/endpoint\n",
    "model_endpoint = \\\n",
    "    estimator_modelo_xgb.deploy(\n",
    "        initial_instance_count=1,\n",
    "        instance_type='ml.t2.medium',\n",
    "        endpoint_name='bytebankSDKEndpoint',\n",
    "        serializer=serializer,\n",
    "        model_name='bytebankPythonSDK-2021-02-15-21-43-56-913'\n",
    ")"
   ]
  },
  {
   "cell_type": "markdown",
   "id": "f6fd72bb",
   "metadata": {},
   "source": [
    "## Model call on endpoint - Testing Deploy"
   ]
  },
  {
   "cell_type": "code",
   "execution_count": 34,
   "id": "7d47fd95",
   "metadata": {},
   "outputs": [],
   "source": [
    "session_sagemaker_sdk.download_data(\n",
    "    path=TAG_DATA,\n",
    "    bucket=BUCKET,\n",
    "    key_prefix=f'{TAG_DATA}/test' \n",
    ")"
   ]
  },
  {
   "cell_type": "code",
   "execution_count": 35,
   "id": "4f266a17",
   "metadata": {},
   "outputs": [],
   "source": [
    "df_bytebank_test = pd.read_csv(dict_dir_data['test'])\n"
   ]
  },
  {
   "cell_type": "code",
   "execution_count": 36,
   "id": "352b3aad",
   "metadata": {},
   "outputs": [
    {
     "data": {
      "text/html": [
       "<div>\n",
       "<style scoped>\n",
       "    .dataframe tbody tr th:only-of-type {\n",
       "        vertical-align: middle;\n",
       "    }\n",
       "\n",
       "    .dataframe tbody tr th {\n",
       "        vertical-align: top;\n",
       "    }\n",
       "\n",
       "    .dataframe thead th {\n",
       "        text-align: right;\n",
       "    }\n",
       "</style>\n",
       "<table border=\"1\" class=\"dataframe\">\n",
       "  <thead>\n",
       "    <tr style=\"text-align: right;\">\n",
       "      <th></th>\n",
       "      <th>INADIMPLENTE</th>\n",
       "      <th>CREDITO_CONCEDIDO</th>\n",
       "      <th>GENERO</th>\n",
       "      <th>ESCOLARIDADE</th>\n",
       "      <th>ESTADO_CIVIL</th>\n",
       "      <th>IDADE</th>\n",
       "      <th>ATRASO_PARCELA_M_0</th>\n",
       "      <th>ATRASO_PARCELA_M_2</th>\n",
       "      <th>ATRASO_PARCELA_M_3</th>\n",
       "      <th>ATRASO_PARCELA_M_4</th>\n",
       "      <th>...</th>\n",
       "      <th>SALDO_PAGO_PARCELA_3</th>\n",
       "      <th>SALDO_PAGO_PARCELA_4</th>\n",
       "      <th>SALDO_PAGO_PARCELA_5</th>\n",
       "      <th>SALDO_PAGO_PARCELA_6</th>\n",
       "      <th>VALOR_PAGAMENTO_ANTERIOR_1</th>\n",
       "      <th>VALOR_PAGAMENTO_ANTERIOR_2</th>\n",
       "      <th>VALOR_PAGAMENTO_ANTERIOR_3</th>\n",
       "      <th>VALOR_PAGAMENTO_ANTERIOR_4</th>\n",
       "      <th>VALOR_PAGAMENTO_ANTERIOR_5</th>\n",
       "      <th>VALOR_PAGAMENTO_ANTERIOR_6</th>\n",
       "    </tr>\n",
       "  </thead>\n",
       "  <tbody>\n",
       "    <tr>\n",
       "      <th>0</th>\n",
       "      <td>0</td>\n",
       "      <td>480000</td>\n",
       "      <td>2</td>\n",
       "      <td>2</td>\n",
       "      <td>1</td>\n",
       "      <td>35</td>\n",
       "      <td>0</td>\n",
       "      <td>0</td>\n",
       "      <td>0</td>\n",
       "      <td>0</td>\n",
       "      <td>...</td>\n",
       "      <td>244961</td>\n",
       "      <td>248394</td>\n",
       "      <td>253596</td>\n",
       "      <td>211055</td>\n",
       "      <td>51000</td>\n",
       "      <td>10000</td>\n",
       "      <td>8000</td>\n",
       "      <td>8200</td>\n",
       "      <td>23000</td>\n",
       "      <td>8000</td>\n",
       "    </tr>\n",
       "    <tr>\n",
       "      <th>1</th>\n",
       "      <td>1</td>\n",
       "      <td>60000</td>\n",
       "      <td>1</td>\n",
       "      <td>1</td>\n",
       "      <td>2</td>\n",
       "      <td>35</td>\n",
       "      <td>0</td>\n",
       "      <td>1</td>\n",
       "      <td>1</td>\n",
       "      <td>-1</td>\n",
       "      <td>...</td>\n",
       "      <td>-2743</td>\n",
       "      <td>436</td>\n",
       "      <td>20</td>\n",
       "      <td>-225</td>\n",
       "      <td>0</td>\n",
       "      <td>0</td>\n",
       "      <td>5439</td>\n",
       "      <td>0</td>\n",
       "      <td>170</td>\n",
       "      <td>0</td>\n",
       "    </tr>\n",
       "    <tr>\n",
       "      <th>2</th>\n",
       "      <td>0</td>\n",
       "      <td>200000</td>\n",
       "      <td>2</td>\n",
       "      <td>3</td>\n",
       "      <td>2</td>\n",
       "      <td>49</td>\n",
       "      <td>-1</td>\n",
       "      <td>-1</td>\n",
       "      <td>0</td>\n",
       "      <td>0</td>\n",
       "      <td>...</td>\n",
       "      <td>27974</td>\n",
       "      <td>30596</td>\n",
       "      <td>38109</td>\n",
       "      <td>22170</td>\n",
       "      <td>20071</td>\n",
       "      <td>20036</td>\n",
       "      <td>15022</td>\n",
       "      <td>15113</td>\n",
       "      <td>22235</td>\n",
       "      <td>3919</td>\n",
       "    </tr>\n",
       "    <tr>\n",
       "      <th>3</th>\n",
       "      <td>0</td>\n",
       "      <td>180000</td>\n",
       "      <td>1</td>\n",
       "      <td>1</td>\n",
       "      <td>1</td>\n",
       "      <td>48</td>\n",
       "      <td>0</td>\n",
       "      <td>0</td>\n",
       "      <td>0</td>\n",
       "      <td>0</td>\n",
       "      <td>...</td>\n",
       "      <td>160707</td>\n",
       "      <td>162477</td>\n",
       "      <td>166861</td>\n",
       "      <td>171083</td>\n",
       "      <td>8000</td>\n",
       "      <td>8000</td>\n",
       "      <td>6000</td>\n",
       "      <td>7000</td>\n",
       "      <td>7000</td>\n",
       "      <td>7000</td>\n",
       "    </tr>\n",
       "    <tr>\n",
       "      <th>4</th>\n",
       "      <td>1</td>\n",
       "      <td>200000</td>\n",
       "      <td>1</td>\n",
       "      <td>1</td>\n",
       "      <td>1</td>\n",
       "      <td>27</td>\n",
       "      <td>0</td>\n",
       "      <td>0</td>\n",
       "      <td>1</td>\n",
       "      <td>0</td>\n",
       "      <td>...</td>\n",
       "      <td>201605</td>\n",
       "      <td>179983</td>\n",
       "      <td>185993</td>\n",
       "      <td>192317</td>\n",
       "      <td>21364</td>\n",
       "      <td>1401</td>\n",
       "      <td>9637</td>\n",
       "      <td>9559</td>\n",
       "      <td>9497</td>\n",
       "      <td>15555</td>\n",
       "    </tr>\n",
       "  </tbody>\n",
       "</table>\n",
       "<p>5 rows × 24 columns</p>\n",
       "</div>"
      ],
      "text/plain": [
       "   INADIMPLENTE  CREDITO_CONCEDIDO  GENERO  ESCOLARIDADE  ESTADO_CIVIL  IDADE  \\\n",
       "0             0             480000       2             2             1     35   \n",
       "1             1              60000       1             1             2     35   \n",
       "2             0             200000       2             3             2     49   \n",
       "3             0             180000       1             1             1     48   \n",
       "4             1             200000       1             1             1     27   \n",
       "\n",
       "   ATRASO_PARCELA_M_0  ATRASO_PARCELA_M_2  ATRASO_PARCELA_M_3  \\\n",
       "0                   0                   0                   0   \n",
       "1                   0                   1                   1   \n",
       "2                  -1                  -1                   0   \n",
       "3                   0                   0                   0   \n",
       "4                   0                   0                   1   \n",
       "\n",
       "   ATRASO_PARCELA_M_4  ...  SALDO_PAGO_PARCELA_3  SALDO_PAGO_PARCELA_4  \\\n",
       "0                   0  ...                244961                248394   \n",
       "1                  -1  ...                 -2743                   436   \n",
       "2                   0  ...                 27974                 30596   \n",
       "3                   0  ...                160707                162477   \n",
       "4                   0  ...                201605                179983   \n",
       "\n",
       "   SALDO_PAGO_PARCELA_5  SALDO_PAGO_PARCELA_6  VALOR_PAGAMENTO_ANTERIOR_1  \\\n",
       "0                253596                211055                       51000   \n",
       "1                    20                  -225                           0   \n",
       "2                 38109                 22170                       20071   \n",
       "3                166861                171083                        8000   \n",
       "4                185993                192317                       21364   \n",
       "\n",
       "   VALOR_PAGAMENTO_ANTERIOR_2  VALOR_PAGAMENTO_ANTERIOR_3  \\\n",
       "0                       10000                        8000   \n",
       "1                           0                        5439   \n",
       "2                       20036                       15022   \n",
       "3                        8000                        6000   \n",
       "4                        1401                        9637   \n",
       "\n",
       "   VALOR_PAGAMENTO_ANTERIOR_4  VALOR_PAGAMENTO_ANTERIOR_5  \\\n",
       "0                        8200                       23000   \n",
       "1                           0                         170   \n",
       "2                       15113                       22235   \n",
       "3                        7000                        7000   \n",
       "4                        9559                        9497   \n",
       "\n",
       "   VALOR_PAGAMENTO_ANTERIOR_6  \n",
       "0                        8000  \n",
       "1                           0  \n",
       "2                        3919  \n",
       "3                        7000  \n",
       "4                       15555  \n",
       "\n",
       "[5 rows x 24 columns]"
      ]
     },
     "execution_count": 36,
     "metadata": {},
     "output_type": "execute_result"
    }
   ],
   "source": [
    "df_bytebank_test.head(5)"
   ]
  },
  {
   "cell_type": "code",
   "execution_count": 37,
   "id": "bd1b35c8",
   "metadata": {},
   "outputs": [],
   "source": [
    "y_test = np.array(df_bytebank_test['INADIMPLENTE'])"
   ]
  },
  {
   "cell_type": "code",
   "execution_count": 38,
   "id": "32f90314",
   "metadata": {},
   "outputs": [],
   "source": [
    "del df_bytebank_test['INADIMPLENTE']"
   ]
  },
  {
   "cell_type": "code",
   "execution_count": 39,
   "id": "f6288961",
   "metadata": {},
   "outputs": [],
   "source": [
    "colums = df_bytebank_test.columns"
   ]
  },
  {
   "cell_type": "code",
   "execution_count": 40,
   "id": "efd2f6d2",
   "metadata": {},
   "outputs": [
    {
     "data": {
      "text/plain": [
       "Index(['CREDITO_CONCEDIDO', 'GENERO', 'ESCOLARIDADE', 'ESTADO_CIVIL', 'IDADE',\n",
       "       'ATRASO_PARCELA_M_0', 'ATRASO_PARCELA_M_2', 'ATRASO_PARCELA_M_3',\n",
       "       'ATRASO_PARCELA_M_4', 'ATRASO_PARCELA_M_5', 'ATRASO_PARCELA_M_6',\n",
       "       'SALDO_PAGO_PARCELA_1', 'SALDO_PAGO_PARCELA_2', 'SALDO_PAGO_PARCELA_3',\n",
       "       'SALDO_PAGO_PARCELA_4', 'SALDO_PAGO_PARCELA_5', 'SALDO_PAGO_PARCELA_6',\n",
       "       'VALOR_PAGAMENTO_ANTERIOR_1', 'VALOR_PAGAMENTO_ANTERIOR_2',\n",
       "       'VALOR_PAGAMENTO_ANTERIOR_3', 'VALOR_PAGAMENTO_ANTERIOR_4',\n",
       "       'VALOR_PAGAMENTO_ANTERIOR_5', 'VALOR_PAGAMENTO_ANTERIOR_6'],\n",
       "      dtype='object')"
      ]
     },
     "execution_count": 40,
     "metadata": {},
     "output_type": "execute_result"
    }
   ],
   "source": [
    "colums"
   ]
  },
  {
   "cell_type": "code",
   "execution_count": 41,
   "id": "16997525",
   "metadata": {},
   "outputs": [],
   "source": [
    "df_bytebank_test['payload'] = df_bytebank_test[colums].apply(lambda row: ','.join(row.values.astype(str)), axis=1)"
   ]
  },
  {
   "cell_type": "code",
   "execution_count": 42,
   "id": "59b592b1",
   "metadata": {},
   "outputs": [
    {
     "data": {
      "text/plain": [
       "0       480000,2,2,1,35,0,0,0,0,0,0,227221,243942,2449...\n",
       "1       60000,1,1,2,35,0,1,1,-1,0,-1,737,320,-2743,436...\n",
       "2       200000,2,3,2,49,-1,-1,0,0,0,-1,7697,18951,2797...\n",
       "3       180000,1,1,1,48,0,0,0,0,0,0,163461,167140,1607...\n",
       "4       200000,1,1,1,27,0,0,1,0,0,0,188361,205761,2016...\n",
       "                              ...                        \n",
       "6885    100000,2,2,2,24,0,0,0,0,0,0,101887,102069,1006...\n",
       "6886    80000,1,2,2,26,1,2,2,2,0,0,77389,75585,80300,7...\n",
       "6887    50000,1,3,1,40,0,0,0,0,0,0,34582,25281,15264,1...\n",
       "6888    160000,1,1,2,28,-1,-1,-1,0,0,-1,3236,-524,3003...\n",
       "6889    110000,2,3,1,31,0,0,2,0,0,0,22396,24758,22546,...\n",
       "Name: payload, Length: 6890, dtype: object"
      ]
     },
     "execution_count": 42,
     "metadata": {},
     "output_type": "execute_result"
    }
   ],
   "source": [
    "df_bytebank_test['payload'] "
   ]
  },
  {
   "cell_type": "code",
   "execution_count": 43,
   "id": "a2efbc76",
   "metadata": {},
   "outputs": [],
   "source": [
    "y_pred = []"
   ]
  },
  {
   "cell_type": "code",
   "execution_count": 44,
   "id": "785de272",
   "metadata": {},
   "outputs": [],
   "source": [
    "for index, row in df_bytebank_test.iterrows():\n",
    "    body = row.payload\n",
    "    predict = model_endpoint.predict(body).decode('utf-8')\n",
    "    y_pred.append(predict)"
   ]
  },
  {
   "cell_type": "code",
   "execution_count": 45,
   "id": "3593c85c",
   "metadata": {},
   "outputs": [],
   "source": [
    "y_pred = np.array(y_pred)\n"
   ]
  },
  {
   "cell_type": "code",
   "execution_count": 46,
   "id": "338efb24",
   "metadata": {},
   "outputs": [],
   "source": [
    "y_pred = y_pred.astype(float).astype(int)"
   ]
  },
  {
   "cell_type": "code",
   "execution_count": 47,
   "id": "9342f3d2",
   "metadata": {},
   "outputs": [
    {
     "data": {
      "text/plain": [
       "array([0, 1, 0, ..., 0, 0, 0])"
      ]
     },
     "execution_count": 47,
     "metadata": {},
     "output_type": "execute_result"
    }
   ],
   "source": [
    "y_pred"
   ]
  },
  {
   "cell_type": "markdown",
   "id": "5d453c7a",
   "metadata": {},
   "source": [
    "### Classfication Report"
   ]
  },
  {
   "cell_type": "code",
   "execution_count": 48,
   "id": "ffc610df",
   "metadata": {},
   "outputs": [
    {
     "data": {
      "text/html": [
       "<div>\n",
       "<style scoped>\n",
       "    .dataframe tbody tr th:only-of-type {\n",
       "        vertical-align: middle;\n",
       "    }\n",
       "\n",
       "    .dataframe tbody tr th {\n",
       "        vertical-align: top;\n",
       "    }\n",
       "\n",
       "    .dataframe thead th {\n",
       "        text-align: right;\n",
       "    }\n",
       "</style>\n",
       "<table border=\"1\" class=\"dataframe\">\n",
       "  <thead>\n",
       "    <tr style=\"text-align: right;\">\n",
       "      <th></th>\n",
       "      <th>adimplente</th>\n",
       "      <th>inadimplente</th>\n",
       "      <th>accuracy</th>\n",
       "      <th>macro avg</th>\n",
       "      <th>weighted avg</th>\n",
       "    </tr>\n",
       "  </thead>\n",
       "  <tbody>\n",
       "    <tr>\n",
       "      <th>precision</th>\n",
       "      <td>0.785616</td>\n",
       "      <td>0.817541</td>\n",
       "      <td>0.800726</td>\n",
       "      <td>0.801578</td>\n",
       "      <td>0.801574</td>\n",
       "    </tr>\n",
       "    <tr>\n",
       "      <th>recall</th>\n",
       "      <td>0.827336</td>\n",
       "      <td>0.774100</td>\n",
       "      <td>0.800726</td>\n",
       "      <td>0.800718</td>\n",
       "      <td>0.800726</td>\n",
       "    </tr>\n",
       "    <tr>\n",
       "      <th>f1-score</th>\n",
       "      <td>0.805936</td>\n",
       "      <td>0.795227</td>\n",
       "      <td>0.800726</td>\n",
       "      <td>0.800582</td>\n",
       "      <td>0.800583</td>\n",
       "    </tr>\n",
       "    <tr>\n",
       "      <th>support</th>\n",
       "      <td>3446.000000</td>\n",
       "      <td>3444.000000</td>\n",
       "      <td>0.800726</td>\n",
       "      <td>6890.000000</td>\n",
       "      <td>6890.000000</td>\n",
       "    </tr>\n",
       "  </tbody>\n",
       "</table>\n",
       "</div>"
      ],
      "text/plain": [
       "            adimplente  inadimplente  accuracy    macro avg  weighted avg\n",
       "precision     0.785616      0.817541  0.800726     0.801578      0.801574\n",
       "recall        0.827336      0.774100  0.800726     0.800718      0.800726\n",
       "f1-score      0.805936      0.795227  0.800726     0.800582      0.800583\n",
       "support    3446.000000   3444.000000  0.800726  6890.000000   6890.000000"
      ]
     },
     "execution_count": 48,
     "metadata": {},
     "output_type": "execute_result"
    }
   ],
   "source": [
    "pd.DataFrame(\n",
    "    classification_report(\n",
    "        y_test,\n",
    "        y_pred,\n",
    "        target_names= ['adimplente', 'inadimplente'],\n",
    "        output_dict=True))"
   ]
  },
  {
   "cell_type": "code",
   "execution_count": 49,
   "id": "7909f8cf",
   "metadata": {},
   "outputs": [
    {
     "data": {
      "image/png": "[encoded data removed]",
      "text/plain": [
       "<Figure size 432x288 with 2 Axes>"
      ]
     },
     "metadata": {
      "needs_background": "light"
     },
     "output_type": "display_data"
    }
   ],
   "source": [
    "cm = confusion_matrix(y_test,\n",
    "                      y_pred)\n",
    "\n",
    "cm_display = ConfusionMatrixDisplay(cm,\n",
    "                                    display_labels=['adimplente', 'inadimplente']).plot(values_format = '.0f')"
   ]
  },
  {
   "cell_type": "markdown",
   "id": "c9af0a1a",
   "metadata": {},
   "source": [
    "## Script to make the call on the endpoint"
   ]
  },
  {
   "cell_type": "code",
   "execution_count": 50,
   "id": "6aec11e9",
   "metadata": {},
   "outputs": [],
   "source": [
    "import boto3\n",
    "\n",
    "endpoint_name = 'bytebankSDKEndpoint'\n",
    "\n",
    "runtime = \\\n",
    "    boto3.Session().client(\n",
    "        service_name='sagemaker-runtime',\n",
    "        region_name='us-east-1'\n",
    ")\n",
    "\n",
    "payload \\\n",
    "    = '140000,2,2,1,37,0,0,0,0,0,0,58081,51013,54343,27537,9751,12569,5000,5000,5000,3000,3000,5000'\n",
    "\n",
    "\n",
    "response = \\\n",
    "    runtime.invoke_endpoint(\n",
    "        EndpointName=endpoint_name,\n",
    "        ContentType='text/csv',\n",
    "        Body=payload\n",
    ")"
   ]
  },
  {
   "cell_type": "code",
   "execution_count": 51,
   "id": "125dca63",
   "metadata": {},
   "outputs": [
    {
     "name": "stdout",
     "output_type": "stream",
     "text": [
      "{'ResponseMetadata': {'RequestId': '88444479-d8be-40c3-a045-2077c0624371', 'HTTPStatusCode': 200, 'HTTPHeaders': {'x-amzn-requestid': '88444479-d8be-40c3-a045-2077c0624371', 'x-amzn-invoked-production-variant': 'AllTraffic', 'date': 'Sat, 23 Jul 2022 00:24:27 GMT', 'content-type': 'text/csv; charset=utf-8', 'content-length': '3'}, 'RetryAttempts': 0}, 'ContentType': 'text/csv; charset=utf-8', 'InvokedProductionVariant': 'AllTraffic', 'Body': <botocore.response.StreamingBody object at 0x7f06c5397a30>}\n"
     ]
    }
   ],
   "source": [
    "print(response)\n"
   ]
  },
  {
   "cell_type": "code",
   "execution_count": 52,
   "id": "cbc0d7a0",
   "metadata": {},
   "outputs": [
    {
     "name": "stdout",
     "output_type": "stream",
     "text": [
      "Crédito será inadimplente?: 0\n"
     ]
    }
   ],
   "source": [
    "predicao = int(float((response['Body'].read().decode('UTF-8'))))\n",
    "print(f'Crédito será inadimplente?: {predicao}')"
   ]
  },
  {
   "cell_type": "markdown",
   "id": "913a7335",
   "metadata": {},
   "source": [
    "## Removal of built artifacts"
   ]
  },
  {
   "cell_type": "code",
   "execution_count": null,
   "id": "7a5beb37",
   "metadata": {},
   "outputs": [],
   "source": [
    "model_endpoint.endpoint_name"
   ]
  },
  {
   "cell_type": "code",
   "execution_count": 54,
   "id": "9ce2ff04",
   "metadata": {},
   "outputs": [],
   "source": [
    "session_sagemaker_sdk.delete_endpoint_config('bytebankSDKEndpoint')"
   ]
  },
  {
   "cell_type": "code",
   "execution_count": 55,
   "id": "5f870f53",
   "metadata": {},
   "outputs": [],
   "source": [
    "session_sagemaker_sdk.delete_model('bytebankPythonSDK-2021-02-15-21-43-56-913')"
   ]
  },
  {
   "cell_type": "code",
   "execution_count": 56,
   "id": "64adfdd5",
   "metadata": {},
   "outputs": [],
   "source": [
    "session_sagemaker_sdk.delete_endpoint('bytebankSDKEndpoint')"
   ]
  },
  {
   "cell_type": "code",
   "execution_count": null,
   "id": "f9e04261",
   "metadata": {},
   "outputs": [],
   "source": []
  }
 ],
 "metadata": {
  "kernelspec": {
   "display_name": "conda_tensorflow2_p38",
   "language": "python",
   "name": "conda_tensorflow2_p38"
  },
  "language_info": {
   "codemirror_mode": {
    "name": "ipython",
    "version": 3
   },
   "file_extension": ".py",
   "mimetype": "text/x-python",
   "name": "python",
   "nbconvert_exporter": "python",
   "pygments_lexer": "ipython3",
   "version": "3.8.12"
  }
 },
 "nbformat": 4,
 "nbformat_minor": 5
}
