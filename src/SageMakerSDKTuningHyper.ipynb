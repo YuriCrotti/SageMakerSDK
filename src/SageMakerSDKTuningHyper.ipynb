{
 "cells": [
  {
   "cell_type": "markdown",
   "id": "51a6671f",
   "metadata": {},
   "source": [
    "## Install libs and SageMaker"
   ]
  },
  {
   "cell_type": "code",
   "execution_count": null,
   "id": "c5939f06",
   "metadata": {
    "scrolled": true
   },
   "outputs": [],
   "source": [
    "!pip install -U pip\n",
    "!pip install sagemaker==2.15.3\n",
    "!pip install boto3==1.16.2\n",
    "!pip install pandas==1.0.1\n",
    "!pip install numpy==1.18.1\n",
    "!pip install matplotlib==3.3.3\n",
    "!pip install scikit-learn==0.24.0"
   ]
  },
  {
   "cell_type": "markdown",
   "id": "830f44eb",
   "metadata": {},
   "source": [
    "## Import libs and create constant "
   ]
  },
  {
   "cell_type": "code",
   "execution_count": 2,
   "id": "c0bfcaec",
   "metadata": {},
   "outputs": [],
   "source": [
    "import os\n",
    "import io\n",
    "import json\n",
    "import time\n",
    "import numpy as np\n",
    "import pandas as pd\n",
    "import matplotlib.pyplot as plt\n",
    "\n",
    "from sklearn.metrics import accuracy_score\n",
    "from sklearn.metrics import classification_report\n",
    "from sklearn.metrics import confusion_matrix\n",
    "from sklearn.metrics import ConfusionMatrixDisplay\n",
    "\n",
    "from time import strftime, gmtime"
   ]
  },
  {
   "cell_type": "code",
   "execution_count": 3,
   "id": "e2bbf078",
   "metadata": {},
   "outputs": [],
   "source": [
    "import sys\n",
    "import os\n",
    "\n",
    "sys.path.append(\"./\")"
   ]
  },
  {
   "cell_type": "code",
   "execution_count": 4,
   "id": "8bbc6e97",
   "metadata": {},
   "outputs": [],
   "source": [
    "# Import lib boto3\n",
    "import boto3"
   ]
  },
  {
   "cell_type": "code",
   "execution_count": 5,
   "id": "8573b28c",
   "metadata": {},
   "outputs": [],
   "source": [
    "# Create session Boto3\n",
    "session_boto = boto3.Session(region_name='us-east-1')"
   ]
  },
  {
   "cell_type": "code",
   "execution_count": 6,
   "id": "41dc7f74",
   "metadata": {},
   "outputs": [],
   "source": [
    "# Import to get de role \n",
    "from sagemaker import get_execution_role"
   ]
  },
  {
   "cell_type": "code",
   "execution_count": 7,
   "id": "ef8b52f4",
   "metadata": {},
   "outputs": [],
   "source": [
    "# Save de role \n",
    "ROLE = get_execution_role()"
   ]
  },
  {
   "cell_type": "code",
   "execution_count": null,
   "id": "bb7d02f3",
   "metadata": {},
   "outputs": [],
   "source": [
    "print(ROLE)"
   ]
  },
  {
   "cell_type": "code",
   "execution_count": 9,
   "id": "06cf13e3",
   "metadata": {},
   "outputs": [],
   "source": [
    "# Import SageMaker SDK\n",
    "import sagemaker"
   ]
  },
  {
   "cell_type": "code",
   "execution_count": 10,
   "id": "076ab97d",
   "metadata": {},
   "outputs": [],
   "source": [
    "# Create a session in SageMaker SDK with the boto session.\n",
    "session_sagemaker_sdk = sagemaker.Session(boto_session=session_boto)"
   ]
  },
  {
   "cell_type": "code",
   "execution_count": 11,
   "id": "be6ae15b",
   "metadata": {},
   "outputs": [],
   "source": [
    "session_sagemaker_boto = boto3.Session().client('sagemaker')"
   ]
  },
  {
   "cell_type": "code",
   "execution_count": 12,
   "id": "914fd1d4",
   "metadata": {},
   "outputs": [],
   "source": [
    "# Bucket name.\n",
    "BUCKET ='mybucketmlyci'\n",
    "\n",
    "# tag data \n",
    "TAG_DATA = 'data'\n",
    "\n",
    "# tag model\n",
    "TAG_MODEL = 'model'\n",
    "\n",
    "# Region \n",
    "REGION = boto3.Session().region_name\n",
    "\n",
    "SEED = 42"
   ]
  },
  {
   "cell_type": "code",
   "execution_count": 13,
   "id": "889b103a",
   "metadata": {},
   "outputs": [],
   "source": [
    "# dict dir data\n",
    "dict_dir_data = {\n",
    "    \"train\": \"../data/df_bytebank_treino.csv\",\n",
    "    \"test\": \"../data/df_bytebank_teste.csv\",\n",
    "    \"validation\": \"../data/df_bytebank_validacao.csv\",    \n",
    "}"
   ]
  },
  {
   "cell_type": "markdown",
   "id": "b3ec5b61",
   "metadata": {},
   "source": [
    "## Dir S3 and Training Inputs"
   ]
  },
  {
   "cell_type": "code",
   "execution_count": 14,
   "id": "35ce5322",
   "metadata": {},
   "outputs": [],
   "source": [
    "bytebank_train_dir = session_sagemaker_sdk.upload_data(path=dict_dir_data['train'],\n",
    "                                                       bucket=BUCKET,\n",
    "                                                       key_prefix=f'{TAG_DATA}/train')"
   ]
  },
  {
   "cell_type": "code",
   "execution_count": 15,
   "id": "5f7f313f",
   "metadata": {},
   "outputs": [
    {
     "data": {
      "text/plain": [
       "'s3://mybucketmlyci/data/train/df_bytebank_treino.csv'"
      ]
     },
     "execution_count": 15,
     "metadata": {},
     "output_type": "execute_result"
    }
   ],
   "source": [
    "bytebank_train_dir"
   ]
  },
  {
   "cell_type": "code",
   "execution_count": 16,
   "id": "6cf18f03",
   "metadata": {},
   "outputs": [],
   "source": [
    "bytebank_test_dir = session_sagemaker_sdk.upload_data(path=dict_dir_data['test'],\n",
    "                                                      bucket=BUCKET,\n",
    "                                                      key_prefix=f'{TAG_DATA}/test')"
   ]
  },
  {
   "cell_type": "code",
   "execution_count": 17,
   "id": "28c962a8",
   "metadata": {},
   "outputs": [
    {
     "data": {
      "text/plain": [
       "'s3://mybucketmlyci/data/test/df_bytebank_teste.csv'"
      ]
     },
     "execution_count": 17,
     "metadata": {},
     "output_type": "execute_result"
    }
   ],
   "source": [
    "bytebank_test_dir"
   ]
  },
  {
   "cell_type": "code",
   "execution_count": 18,
   "id": "81b03068",
   "metadata": {},
   "outputs": [],
   "source": [
    "bytebank_validation_dir = session_sagemaker_sdk.upload_data(path=dict_dir_data['validation'],\n",
    "                                                            bucket=BUCKET,\n",
    "                                                            key_prefix=f'{TAG_DATA}/validation')"
   ]
  },
  {
   "cell_type": "code",
   "execution_count": 19,
   "id": "ba7a0e70",
   "metadata": {},
   "outputs": [
    {
     "data": {
      "text/plain": [
       "'s3://mybucketmlyci/data/validation/df_bytebank_validacao.csv'"
      ]
     },
     "execution_count": 19,
     "metadata": {},
     "output_type": "execute_result"
    }
   ],
   "source": [
    "bytebank_validation_dir"
   ]
  },
  {
   "cell_type": "code",
   "execution_count": 20,
   "id": "b9019a5d",
   "metadata": {},
   "outputs": [],
   "source": [
    "s3_input_train =sagemaker.TrainingInput(s3_data=bytebank_train_dir,\n",
    "                                        content_type='csv')"
   ]
  },
  {
   "cell_type": "code",
   "execution_count": 21,
   "id": "6f099189",
   "metadata": {},
   "outputs": [],
   "source": [
    "s3_input_test =sagemaker.TrainingInput(s3_data=bytebank_test_dir,\n",
    "                                        content_type='csv')"
   ]
  },
  {
   "cell_type": "code",
   "execution_count": 22,
   "id": "3735dc9b",
   "metadata": {},
   "outputs": [],
   "source": [
    "s3_input_validation =sagemaker.TrainingInput(s3_data=bytebank_validation_dir,\n",
    "                                        content_type='csv')"
   ]
  },
  {
   "cell_type": "markdown",
   "id": "06cb0234",
   "metadata": {},
   "source": [
    "## Sage Maker built-in images"
   ]
  },
  {
   "cell_type": "code",
   "execution_count": 23,
   "id": "1e1c90b3",
   "metadata": {},
   "outputs": [],
   "source": [
    "#  Import images_uri\n",
    "from sagemaker import image_uris"
   ]
  },
  {
   "cell_type": "code",
   "execution_count": 24,
   "id": "f3ce2581",
   "metadata": {},
   "outputs": [],
   "source": [
    "# Load image xgboost\n",
    "container = \\\n",
    "    image_uris.retrieve(\n",
    "    framework='xgboost',\n",
    "    region=REGION,\n",
    "    version='0.90-2'\n",
    ")"
   ]
  },
  {
   "cell_type": "code",
   "execution_count": null,
   "id": "c606c5ba",
   "metadata": {},
   "outputs": [],
   "source": [
    "container"
   ]
  },
  {
   "cell_type": "markdown",
   "id": "4043baac",
   "metadata": {},
   "source": [
    "## Model estimator and construction"
   ]
  },
  {
   "cell_type": "code",
   "execution_count": 26,
   "id": "0e981d9f",
   "metadata": {},
   "outputs": [],
   "source": [
    "# Import estimator SageMaker\n",
    "from sagemaker import estimator"
   ]
  },
  {
   "cell_type": "code",
   "execution_count": 27,
   "id": "2e34b34b",
   "metadata": {},
   "outputs": [],
   "source": [
    "# Create estimator \n",
    "estimator_modelo_xgb = estimator.Estimator( image_uri=container,\n",
    "                                            role=ROLE,\n",
    "                                            instance_count=1,\n",
    "                                            instance_type='ml.m4.xlarge',\n",
    "                                            output_path=f's3://{BUCKET}/{TAG_MODEL}',\n",
    "                                            base_job_name='bytebankPythonSDK',\n",
    "                                            sagemaker_session=session_sagemaker_sdk)"
   ]
  },
  {
   "cell_type": "code",
   "execution_count": 28,
   "id": "ec6dcd2a",
   "metadata": {},
   "outputs": [
    {
     "data": {
      "text/plain": [
       "<sagemaker.estimator.Estimator at 0x7fa8aacebf70>"
      ]
     },
     "execution_count": 28,
     "metadata": {},
     "output_type": "execute_result"
    }
   ],
   "source": [
    "estimator_modelo_xgb"
   ]
  },
  {
   "cell_type": "markdown",
   "id": "ba4d29eb",
   "metadata": {},
   "source": [
    "## Model hyperparameters"
   ]
  },
  {
   "cell_type": "code",
   "execution_count": 116,
   "id": "5124fd1b",
   "metadata": {},
   "outputs": [],
   "source": [
    "from sagemaker.tuner import (\n",
    "    IntegerParameter,\n",
    "    CategoricalParameter,\n",
    "    ContinuousParameter,\n",
    "    HyperparameterTuner,\n",
    ")"
   ]
  },
  {
   "cell_type": "code",
   "execution_count": 117,
   "id": "3754d04f",
   "metadata": {},
   "outputs": [],
   "source": [
    "estimator_modelo_xgb.set_hyperparameters(\n",
    "    eval_metric=\"auc\",\n",
    "    objective=\"binary:hinge\",\n",
    "    num_round=100,\n",
    "    seed=SEED,\n",
    "    rate_drop=0.3,\n",
    "    tweedie_variance_power=1.4,\n",
    ")"
   ]
  },
  {
   "cell_type": "code",
   "execution_count": 118,
   "id": "1a07e7f5",
   "metadata": {},
   "outputs": [],
   "source": [
    "objective_metric_name = \"validation:auc\""
   ]
  },
  {
   "cell_type": "code",
   "execution_count": 119,
   "id": "6104f1ff",
   "metadata": {},
   "outputs": [],
   "source": [
    "hyperparameter_ranges = {\n",
    "    \"eta\": ContinuousParameter(0, 1),\n",
    "    \"min_child_weight\": ContinuousParameter(1, 10),\n",
    "    \"alpha\": ContinuousParameter(0, 2),\n",
    "    \"max_depth\": IntegerParameter(1, 10),\n",
    "}"
   ]
  },
  {
   "cell_type": "code",
   "execution_count": 120,
   "id": "475e5a81",
   "metadata": {},
   "outputs": [],
   "source": [
    "tuner = HyperparameterTuner(\n",
    "    estimator_modelo_xgb,\n",
    "    objective_metric_name,\n",
    "    hyperparameter_ranges,\n",
    "    max_jobs=5,\n",
    "    max_parallel_jobs=5,\n",
    "    strategy=\"Random\",\n",
    ")"
   ]
  },
  {
   "cell_type": "markdown",
   "id": "3d09a89f",
   "metadata": {},
   "source": [
    "## Model Training"
   ]
  },
  {
   "cell_type": "code",
   "execution_count": null,
   "id": "c8f9ce90",
   "metadata": {},
   "outputs": [],
   "source": [
    "tuner.fit(\n",
    "    {\"train\": s3_input_train, \"validation\": s3_input_validation},\n",
    "    include_cls_metadata=False,\n",
    "    job_name=\"xgb-randsearch-\" + strftime(\"%Y%m%d-%H-%M-%S\", gmtime()),\n",
    ")"
   ]
  },
  {
   "cell_type": "markdown",
   "id": "c73af42c",
   "metadata": {},
   "source": [
    "## Analyze tuning job results - after tuning job is completed"
   ]
  },
  {
   "cell_type": "code",
   "execution_count": 122,
   "id": "0aee4840",
   "metadata": {},
   "outputs": [],
   "source": [
    "# check jobs have finished\n",
    "status_log = session_boto.client(\"sagemaker\").describe_hyper_parameter_tuning_job(\n",
    "    HyperParameterTuningJobName=tuner.latest_tuning_job.job_name\n",
    ")[\"HyperParameterTuningJobStatus\"]"
   ]
  },
  {
   "cell_type": "code",
   "execution_count": 123,
   "id": "d6942e75",
   "metadata": {},
   "outputs": [
    {
     "data": {
      "text/plain": [
       "'Completed'"
      ]
     },
     "execution_count": 123,
     "metadata": {},
     "output_type": "execute_result"
    }
   ],
   "source": [
    "status_log"
   ]
  },
  {
   "cell_type": "code",
   "execution_count": 124,
   "id": "169e8b77",
   "metadata": {},
   "outputs": [],
   "source": [
    "assert status_log == \"Completed\", \"First must be completed, was {}\".format(status_log)"
   ]
  },
  {
   "cell_type": "code",
   "execution_count": 126,
   "id": "c56df6a1",
   "metadata": {},
   "outputs": [],
   "source": [
    "df_log = sagemaker.HyperparameterTuningJobAnalytics(\n",
    "    tuner.latest_tuning_job.job_name\n",
    ").dataframe()"
   ]
  },
  {
   "cell_type": "code",
   "execution_count": 127,
   "id": "18ee6896",
   "metadata": {},
   "outputs": [
    {
     "data": {
      "text/html": [
       "<div>\n",
       "<style scoped>\n",
       "    .dataframe tbody tr th:only-of-type {\n",
       "        vertical-align: middle;\n",
       "    }\n",
       "\n",
       "    .dataframe tbody tr th {\n",
       "        vertical-align: top;\n",
       "    }\n",
       "\n",
       "    .dataframe thead th {\n",
       "        text-align: right;\n",
       "    }\n",
       "</style>\n",
       "<table border=\"1\" class=\"dataframe\">\n",
       "  <thead>\n",
       "    <tr style=\"text-align: right;\">\n",
       "      <th></th>\n",
       "      <th>alpha</th>\n",
       "      <th>eta</th>\n",
       "      <th>max_depth</th>\n",
       "      <th>min_child_weight</th>\n",
       "      <th>TrainingJobName</th>\n",
       "      <th>TrainingJobStatus</th>\n",
       "      <th>FinalObjectiveValue</th>\n",
       "      <th>TrainingStartTime</th>\n",
       "      <th>TrainingEndTime</th>\n",
       "      <th>TrainingElapsedTimeSeconds</th>\n",
       "    </tr>\n",
       "  </thead>\n",
       "  <tbody>\n",
       "    <tr>\n",
       "      <th>0</th>\n",
       "      <td>0.352620</td>\n",
       "      <td>0.655419</td>\n",
       "      <td>1.0</td>\n",
       "      <td>8.915489</td>\n",
       "      <td>xgb-randsearch-20220721-18-45-35-005-d333e94b</td>\n",
       "      <td>Completed</td>\n",
       "      <td>0.657246</td>\n",
       "      <td>2022-07-21 18:47:49+00:00</td>\n",
       "      <td>2022-07-21 18:49:52+00:00</td>\n",
       "      <td>123.0</td>\n",
       "    </tr>\n",
       "    <tr>\n",
       "      <th>1</th>\n",
       "      <td>0.278437</td>\n",
       "      <td>0.391706</td>\n",
       "      <td>8.0</td>\n",
       "      <td>9.251808</td>\n",
       "      <td>xgb-randsearch-20220721-18-45-35-004-dd4c04f3</td>\n",
       "      <td>Completed</td>\n",
       "      <td>0.808535</td>\n",
       "      <td>2022-07-21 18:48:01+00:00</td>\n",
       "      <td>2022-07-21 18:50:03+00:00</td>\n",
       "      <td>122.0</td>\n",
       "    </tr>\n",
       "    <tr>\n",
       "      <th>2</th>\n",
       "      <td>1.988130</td>\n",
       "      <td>0.660341</td>\n",
       "      <td>5.0</td>\n",
       "      <td>9.515731</td>\n",
       "      <td>xgb-randsearch-20220721-18-45-35-003-a4988bf7</td>\n",
       "      <td>Completed</td>\n",
       "      <td>0.800912</td>\n",
       "      <td>2022-07-21 18:48:08+00:00</td>\n",
       "      <td>2022-07-21 18:50:16+00:00</td>\n",
       "      <td>128.0</td>\n",
       "    </tr>\n",
       "    <tr>\n",
       "      <th>3</th>\n",
       "      <td>1.817024</td>\n",
       "      <td>0.145500</td>\n",
       "      <td>1.0</td>\n",
       "      <td>2.538243</td>\n",
       "      <td>xgb-randsearch-20220721-18-45-35-002-c75ca028</td>\n",
       "      <td>Completed</td>\n",
       "      <td>0.657246</td>\n",
       "      <td>2022-07-21 18:48:18+00:00</td>\n",
       "      <td>2022-07-21 18:50:20+00:00</td>\n",
       "      <td>122.0</td>\n",
       "    </tr>\n",
       "    <tr>\n",
       "      <th>4</th>\n",
       "      <td>1.572178</td>\n",
       "      <td>0.264181</td>\n",
       "      <td>9.0</td>\n",
       "      <td>8.518273</td>\n",
       "      <td>xgb-randsearch-20220721-18-45-35-001-d69c3195</td>\n",
       "      <td>Completed</td>\n",
       "      <td>0.815078</td>\n",
       "      <td>2022-07-21 18:47:52+00:00</td>\n",
       "      <td>2022-07-21 18:50:05+00:00</td>\n",
       "      <td>133.0</td>\n",
       "    </tr>\n",
       "  </tbody>\n",
       "</table>\n",
       "</div>"
      ],
      "text/plain": [
       "      alpha       eta  max_depth  min_child_weight  \\\n",
       "0  0.352620  0.655419        1.0          8.915489   \n",
       "1  0.278437  0.391706        8.0          9.251808   \n",
       "2  1.988130  0.660341        5.0          9.515731   \n",
       "3  1.817024  0.145500        1.0          2.538243   \n",
       "4  1.572178  0.264181        9.0          8.518273   \n",
       "\n",
       "                                 TrainingJobName TrainingJobStatus  \\\n",
       "0  xgb-randsearch-20220721-18-45-35-005-d333e94b         Completed   \n",
       "1  xgb-randsearch-20220721-18-45-35-004-dd4c04f3         Completed   \n",
       "2  xgb-randsearch-20220721-18-45-35-003-a4988bf7         Completed   \n",
       "3  xgb-randsearch-20220721-18-45-35-002-c75ca028         Completed   \n",
       "4  xgb-randsearch-20220721-18-45-35-001-d69c3195         Completed   \n",
       "\n",
       "   FinalObjectiveValue         TrainingStartTime           TrainingEndTime  \\\n",
       "0             0.657246 2022-07-21 18:47:49+00:00 2022-07-21 18:49:52+00:00   \n",
       "1             0.808535 2022-07-21 18:48:01+00:00 2022-07-21 18:50:03+00:00   \n",
       "2             0.800912 2022-07-21 18:48:08+00:00 2022-07-21 18:50:16+00:00   \n",
       "3             0.657246 2022-07-21 18:48:18+00:00 2022-07-21 18:50:20+00:00   \n",
       "4             0.815078 2022-07-21 18:47:52+00:00 2022-07-21 18:50:05+00:00   \n",
       "\n",
       "   TrainingElapsedTimeSeconds  \n",
       "0                       123.0  \n",
       "1                       122.0  \n",
       "2                       128.0  \n",
       "3                       122.0  \n",
       "4                       133.0  "
      ]
     },
     "execution_count": 127,
     "metadata": {},
     "output_type": "execute_result"
    }
   ],
   "source": [
    "df_log"
   ]
  },
  {
   "cell_type": "markdown",
   "id": "be7f07c8",
   "metadata": {},
   "source": [
    "## Deploying the model - endpoint"
   ]
  },
  {
   "cell_type": "code",
   "execution_count": 136,
   "id": "151fb105",
   "metadata": {},
   "outputs": [],
   "source": [
    "# Import from the CSV serializer \n",
    "from sagemaker.serializers import CSVSerializer"
   ]
  },
  {
   "cell_type": "code",
   "execution_count": 137,
   "id": "af88be52",
   "metadata": {},
   "outputs": [],
   "source": [
    "# # definition of serialization object\n",
    "serializer = CSVSerializer()"
   ]
  },
  {
   "cell_type": "code",
   "execution_count": 138,
   "id": "c2f0ece8",
   "metadata": {},
   "outputs": [
    {
     "data": {
      "text/plain": [
       "<sagemaker.serializers.CSVSerializer at 0x7fa8ab8272e0>"
      ]
     },
     "execution_count": 138,
     "metadata": {},
     "output_type": "execute_result"
    }
   ],
   "source": [
    "serializer"
   ]
  },
  {
   "cell_type": "code",
   "execution_count": null,
   "id": "e20fcc27",
   "metadata": {},
   "outputs": [],
   "source": [
    "# Deploy/endpoint\n",
    "model_endpoint = \\\n",
    "    tuner.deploy(\n",
    "        initial_instance_count=1,\n",
    "        instance_type='ml.t2.medium',\n",
    "        endpoint_name='bytebankSDKEndpoint',\n",
    "        serializer=serializer,\n",
    "        model_name='bytebankPythonSDK-2021-02-15-21-43-56-913'\n",
    ")"
   ]
  },
  {
   "cell_type": "markdown",
   "id": "0e41be9a",
   "metadata": {},
   "source": [
    "## Model call on endpoint - Testing Deploy"
   ]
  },
  {
   "cell_type": "code",
   "execution_count": 140,
   "id": "21c4911b",
   "metadata": {},
   "outputs": [],
   "source": [
    "session_sagemaker_sdk.download_data(\n",
    "    path=TAG_DATA,\n",
    "    bucket=BUCKET,\n",
    "    key_prefix=f'{TAG_DATA}/test' \n",
    ")"
   ]
  },
  {
   "cell_type": "code",
   "execution_count": 141,
   "id": "917154ff",
   "metadata": {},
   "outputs": [],
   "source": [
    "df_bytebank_test = pd.read_csv(dict_dir_data['test'])\n"
   ]
  },
  {
   "cell_type": "code",
   "execution_count": 142,
   "id": "d4bd4580",
   "metadata": {},
   "outputs": [
    {
     "data": {
      "text/html": [
       "<div>\n",
       "<style scoped>\n",
       "    .dataframe tbody tr th:only-of-type {\n",
       "        vertical-align: middle;\n",
       "    }\n",
       "\n",
       "    .dataframe tbody tr th {\n",
       "        vertical-align: top;\n",
       "    }\n",
       "\n",
       "    .dataframe thead th {\n",
       "        text-align: right;\n",
       "    }\n",
       "</style>\n",
       "<table border=\"1\" class=\"dataframe\">\n",
       "  <thead>\n",
       "    <tr style=\"text-align: right;\">\n",
       "      <th></th>\n",
       "      <th>INADIMPLENTE</th>\n",
       "      <th>CREDITO_CONCEDIDO</th>\n",
       "      <th>GENERO</th>\n",
       "      <th>ESCOLARIDADE</th>\n",
       "      <th>ESTADO_CIVIL</th>\n",
       "      <th>IDADE</th>\n",
       "      <th>ATRASO_PARCELA_M_0</th>\n",
       "      <th>ATRASO_PARCELA_M_2</th>\n",
       "      <th>ATRASO_PARCELA_M_3</th>\n",
       "      <th>ATRASO_PARCELA_M_4</th>\n",
       "      <th>...</th>\n",
       "      <th>SALDO_PAGO_PARCELA_3</th>\n",
       "      <th>SALDO_PAGO_PARCELA_4</th>\n",
       "      <th>SALDO_PAGO_PARCELA_5</th>\n",
       "      <th>SALDO_PAGO_PARCELA_6</th>\n",
       "      <th>VALOR_PAGAMENTO_ANTERIOR_1</th>\n",
       "      <th>VALOR_PAGAMENTO_ANTERIOR_2</th>\n",
       "      <th>VALOR_PAGAMENTO_ANTERIOR_3</th>\n",
       "      <th>VALOR_PAGAMENTO_ANTERIOR_4</th>\n",
       "      <th>VALOR_PAGAMENTO_ANTERIOR_5</th>\n",
       "      <th>VALOR_PAGAMENTO_ANTERIOR_6</th>\n",
       "    </tr>\n",
       "  </thead>\n",
       "  <tbody>\n",
       "    <tr>\n",
       "      <th>0</th>\n",
       "      <td>0</td>\n",
       "      <td>480000</td>\n",
       "      <td>2</td>\n",
       "      <td>2</td>\n",
       "      <td>1</td>\n",
       "      <td>35</td>\n",
       "      <td>0</td>\n",
       "      <td>0</td>\n",
       "      <td>0</td>\n",
       "      <td>0</td>\n",
       "      <td>...</td>\n",
       "      <td>244961</td>\n",
       "      <td>248394</td>\n",
       "      <td>253596</td>\n",
       "      <td>211055</td>\n",
       "      <td>51000</td>\n",
       "      <td>10000</td>\n",
       "      <td>8000</td>\n",
       "      <td>8200</td>\n",
       "      <td>23000</td>\n",
       "      <td>8000</td>\n",
       "    </tr>\n",
       "    <tr>\n",
       "      <th>1</th>\n",
       "      <td>1</td>\n",
       "      <td>60000</td>\n",
       "      <td>1</td>\n",
       "      <td>1</td>\n",
       "      <td>2</td>\n",
       "      <td>35</td>\n",
       "      <td>0</td>\n",
       "      <td>1</td>\n",
       "      <td>1</td>\n",
       "      <td>-1</td>\n",
       "      <td>...</td>\n",
       "      <td>-2743</td>\n",
       "      <td>436</td>\n",
       "      <td>20</td>\n",
       "      <td>-225</td>\n",
       "      <td>0</td>\n",
       "      <td>0</td>\n",
       "      <td>5439</td>\n",
       "      <td>0</td>\n",
       "      <td>170</td>\n",
       "      <td>0</td>\n",
       "    </tr>\n",
       "    <tr>\n",
       "      <th>2</th>\n",
       "      <td>0</td>\n",
       "      <td>200000</td>\n",
       "      <td>2</td>\n",
       "      <td>3</td>\n",
       "      <td>2</td>\n",
       "      <td>49</td>\n",
       "      <td>-1</td>\n",
       "      <td>-1</td>\n",
       "      <td>0</td>\n",
       "      <td>0</td>\n",
       "      <td>...</td>\n",
       "      <td>27974</td>\n",
       "      <td>30596</td>\n",
       "      <td>38109</td>\n",
       "      <td>22170</td>\n",
       "      <td>20071</td>\n",
       "      <td>20036</td>\n",
       "      <td>15022</td>\n",
       "      <td>15113</td>\n",
       "      <td>22235</td>\n",
       "      <td>3919</td>\n",
       "    </tr>\n",
       "    <tr>\n",
       "      <th>3</th>\n",
       "      <td>0</td>\n",
       "      <td>180000</td>\n",
       "      <td>1</td>\n",
       "      <td>1</td>\n",
       "      <td>1</td>\n",
       "      <td>48</td>\n",
       "      <td>0</td>\n",
       "      <td>0</td>\n",
       "      <td>0</td>\n",
       "      <td>0</td>\n",
       "      <td>...</td>\n",
       "      <td>160707</td>\n",
       "      <td>162477</td>\n",
       "      <td>166861</td>\n",
       "      <td>171083</td>\n",
       "      <td>8000</td>\n",
       "      <td>8000</td>\n",
       "      <td>6000</td>\n",
       "      <td>7000</td>\n",
       "      <td>7000</td>\n",
       "      <td>7000</td>\n",
       "    </tr>\n",
       "    <tr>\n",
       "      <th>4</th>\n",
       "      <td>1</td>\n",
       "      <td>200000</td>\n",
       "      <td>1</td>\n",
       "      <td>1</td>\n",
       "      <td>1</td>\n",
       "      <td>27</td>\n",
       "      <td>0</td>\n",
       "      <td>0</td>\n",
       "      <td>1</td>\n",
       "      <td>0</td>\n",
       "      <td>...</td>\n",
       "      <td>201605</td>\n",
       "      <td>179983</td>\n",
       "      <td>185993</td>\n",
       "      <td>192317</td>\n",
       "      <td>21364</td>\n",
       "      <td>1401</td>\n",
       "      <td>9637</td>\n",
       "      <td>9559</td>\n",
       "      <td>9497</td>\n",
       "      <td>15555</td>\n",
       "    </tr>\n",
       "  </tbody>\n",
       "</table>\n",
       "<p>5 rows × 24 columns</p>\n",
       "</div>"
      ],
      "text/plain": [
       "   INADIMPLENTE  CREDITO_CONCEDIDO  GENERO  ESCOLARIDADE  ESTADO_CIVIL  IDADE  \\\n",
       "0             0             480000       2             2             1     35   \n",
       "1             1              60000       1             1             2     35   \n",
       "2             0             200000       2             3             2     49   \n",
       "3             0             180000       1             1             1     48   \n",
       "4             1             200000       1             1             1     27   \n",
       "\n",
       "   ATRASO_PARCELA_M_0  ATRASO_PARCELA_M_2  ATRASO_PARCELA_M_3  \\\n",
       "0                   0                   0                   0   \n",
       "1                   0                   1                   1   \n",
       "2                  -1                  -1                   0   \n",
       "3                   0                   0                   0   \n",
       "4                   0                   0                   1   \n",
       "\n",
       "   ATRASO_PARCELA_M_4  ...  SALDO_PAGO_PARCELA_3  SALDO_PAGO_PARCELA_4  \\\n",
       "0                   0  ...                244961                248394   \n",
       "1                  -1  ...                 -2743                   436   \n",
       "2                   0  ...                 27974                 30596   \n",
       "3                   0  ...                160707                162477   \n",
       "4                   0  ...                201605                179983   \n",
       "\n",
       "   SALDO_PAGO_PARCELA_5  SALDO_PAGO_PARCELA_6  VALOR_PAGAMENTO_ANTERIOR_1  \\\n",
       "0                253596                211055                       51000   \n",
       "1                    20                  -225                           0   \n",
       "2                 38109                 22170                       20071   \n",
       "3                166861                171083                        8000   \n",
       "4                185993                192317                       21364   \n",
       "\n",
       "   VALOR_PAGAMENTO_ANTERIOR_2  VALOR_PAGAMENTO_ANTERIOR_3  \\\n",
       "0                       10000                        8000   \n",
       "1                           0                        5439   \n",
       "2                       20036                       15022   \n",
       "3                        8000                        6000   \n",
       "4                        1401                        9637   \n",
       "\n",
       "   VALOR_PAGAMENTO_ANTERIOR_4  VALOR_PAGAMENTO_ANTERIOR_5  \\\n",
       "0                        8200                       23000   \n",
       "1                           0                         170   \n",
       "2                       15113                       22235   \n",
       "3                        7000                        7000   \n",
       "4                        9559                        9497   \n",
       "\n",
       "   VALOR_PAGAMENTO_ANTERIOR_6  \n",
       "0                        8000  \n",
       "1                           0  \n",
       "2                        3919  \n",
       "3                        7000  \n",
       "4                       15555  \n",
       "\n",
       "[5 rows x 24 columns]"
      ]
     },
     "execution_count": 142,
     "metadata": {},
     "output_type": "execute_result"
    }
   ],
   "source": [
    "df_bytebank_test.head(5)"
   ]
  },
  {
   "cell_type": "code",
   "execution_count": 143,
   "id": "0b4da0a7",
   "metadata": {},
   "outputs": [],
   "source": [
    "y_test = np.array(df_bytebank_test['INADIMPLENTE'])"
   ]
  },
  {
   "cell_type": "code",
   "execution_count": 144,
   "id": "017520bd",
   "metadata": {},
   "outputs": [],
   "source": [
    "del df_bytebank_test['INADIMPLENTE']"
   ]
  },
  {
   "cell_type": "code",
   "execution_count": 145,
   "id": "d5fdbbd6",
   "metadata": {},
   "outputs": [],
   "source": [
    "colums = df_bytebank_test.columns"
   ]
  },
  {
   "cell_type": "code",
   "execution_count": 146,
   "id": "0aa3c64a",
   "metadata": {},
   "outputs": [
    {
     "data": {
      "text/plain": [
       "Index(['CREDITO_CONCEDIDO', 'GENERO', 'ESCOLARIDADE', 'ESTADO_CIVIL', 'IDADE',\n",
       "       'ATRASO_PARCELA_M_0', 'ATRASO_PARCELA_M_2', 'ATRASO_PARCELA_M_3',\n",
       "       'ATRASO_PARCELA_M_4', 'ATRASO_PARCELA_M_5', 'ATRASO_PARCELA_M_6',\n",
       "       'SALDO_PAGO_PARCELA_1', 'SALDO_PAGO_PARCELA_2', 'SALDO_PAGO_PARCELA_3',\n",
       "       'SALDO_PAGO_PARCELA_4', 'SALDO_PAGO_PARCELA_5', 'SALDO_PAGO_PARCELA_6',\n",
       "       'VALOR_PAGAMENTO_ANTERIOR_1', 'VALOR_PAGAMENTO_ANTERIOR_2',\n",
       "       'VALOR_PAGAMENTO_ANTERIOR_3', 'VALOR_PAGAMENTO_ANTERIOR_4',\n",
       "       'VALOR_PAGAMENTO_ANTERIOR_5', 'VALOR_PAGAMENTO_ANTERIOR_6'],\n",
       "      dtype='object')"
      ]
     },
     "execution_count": 146,
     "metadata": {},
     "output_type": "execute_result"
    }
   ],
   "source": [
    "colums"
   ]
  },
  {
   "cell_type": "code",
   "execution_count": 147,
   "id": "7e3e8fcd",
   "metadata": {},
   "outputs": [],
   "source": [
    "df_bytebank_test['payload'] = df_bytebank_test[colums].apply(lambda row: ','.join(row.values.astype(str)), axis=1)"
   ]
  },
  {
   "cell_type": "code",
   "execution_count": 148,
   "id": "2db91efe",
   "metadata": {},
   "outputs": [
    {
     "data": {
      "text/plain": [
       "0       480000,2,2,1,35,0,0,0,0,0,0,227221,243942,2449...\n",
       "1       60000,1,1,2,35,0,1,1,-1,0,-1,737,320,-2743,436...\n",
       "2       200000,2,3,2,49,-1,-1,0,0,0,-1,7697,18951,2797...\n",
       "3       180000,1,1,1,48,0,0,0,0,0,0,163461,167140,1607...\n",
       "4       200000,1,1,1,27,0,0,1,0,0,0,188361,205761,2016...\n",
       "                              ...                        \n",
       "6885    100000,2,2,2,24,0,0,0,0,0,0,101887,102069,1006...\n",
       "6886    80000,1,2,2,26,1,2,2,2,0,0,77389,75585,80300,7...\n",
       "6887    50000,1,3,1,40,0,0,0,0,0,0,34582,25281,15264,1...\n",
       "6888    160000,1,1,2,28,-1,-1,-1,0,0,-1,3236,-524,3003...\n",
       "6889    110000,2,3,1,31,0,0,2,0,0,0,22396,24758,22546,...\n",
       "Name: payload, Length: 6890, dtype: object"
      ]
     },
     "execution_count": 148,
     "metadata": {},
     "output_type": "execute_result"
    }
   ],
   "source": [
    "df_bytebank_test['payload'] "
   ]
  },
  {
   "cell_type": "code",
   "execution_count": 149,
   "id": "a9fb99f6",
   "metadata": {},
   "outputs": [],
   "source": [
    "y_pred = []"
   ]
  },
  {
   "cell_type": "code",
   "execution_count": 150,
   "id": "f8eb5725",
   "metadata": {},
   "outputs": [],
   "source": [
    "for index, row in df_bytebank_test.iterrows():\n",
    "    body = row.payload\n",
    "    predict = model_endpoint.predict(body).decode('utf-8')\n",
    "    y_pred.append(predict)"
   ]
  },
  {
   "cell_type": "code",
   "execution_count": 151,
   "id": "cd495961",
   "metadata": {},
   "outputs": [],
   "source": [
    "y_pred = np.array(y_pred)\n"
   ]
  },
  {
   "cell_type": "code",
   "execution_count": 152,
   "id": "8d558c4f",
   "metadata": {},
   "outputs": [],
   "source": [
    "y_pred = y_pred.astype(float).astype(int)"
   ]
  },
  {
   "cell_type": "code",
   "execution_count": 153,
   "id": "8aa5e8be",
   "metadata": {},
   "outputs": [
    {
     "data": {
      "text/plain": [
       "array([0, 1, 0, ..., 0, 0, 0])"
      ]
     },
     "execution_count": 153,
     "metadata": {},
     "output_type": "execute_result"
    }
   ],
   "source": [
    "y_pred"
   ]
  },
  {
   "cell_type": "markdown",
   "id": "1b4ae5b3",
   "metadata": {},
   "source": [
    "### Classfication Report"
   ]
  },
  {
   "cell_type": "code",
   "execution_count": 154,
   "id": "c7dfa505",
   "metadata": {},
   "outputs": [
    {
     "data": {
      "text/html": [
       "<div>\n",
       "<style scoped>\n",
       "    .dataframe tbody tr th:only-of-type {\n",
       "        vertical-align: middle;\n",
       "    }\n",
       "\n",
       "    .dataframe tbody tr th {\n",
       "        vertical-align: top;\n",
       "    }\n",
       "\n",
       "    .dataframe thead th {\n",
       "        text-align: right;\n",
       "    }\n",
       "</style>\n",
       "<table border=\"1\" class=\"dataframe\">\n",
       "  <thead>\n",
       "    <tr style=\"text-align: right;\">\n",
       "      <th></th>\n",
       "      <th>adimplente</th>\n",
       "      <th>inadimplente</th>\n",
       "      <th>accuracy</th>\n",
       "      <th>macro avg</th>\n",
       "      <th>weighted avg</th>\n",
       "    </tr>\n",
       "  </thead>\n",
       "  <tbody>\n",
       "    <tr>\n",
       "      <th>precision</th>\n",
       "      <td>0.822748</td>\n",
       "      <td>0.826036</td>\n",
       "      <td>0.824383</td>\n",
       "      <td>0.824392</td>\n",
       "      <td>0.824392</td>\n",
       "    </tr>\n",
       "    <tr>\n",
       "      <th>recall</th>\n",
       "      <td>0.827046</td>\n",
       "      <td>0.821719</td>\n",
       "      <td>0.824383</td>\n",
       "      <td>0.824382</td>\n",
       "      <td>0.824383</td>\n",
       "    </tr>\n",
       "    <tr>\n",
       "      <th>f1-score</th>\n",
       "      <td>0.824891</td>\n",
       "      <td>0.823872</td>\n",
       "      <td>0.824383</td>\n",
       "      <td>0.824382</td>\n",
       "      <td>0.824382</td>\n",
       "    </tr>\n",
       "    <tr>\n",
       "      <th>support</th>\n",
       "      <td>3446.000000</td>\n",
       "      <td>3444.000000</td>\n",
       "      <td>0.824383</td>\n",
       "      <td>6890.000000</td>\n",
       "      <td>6890.000000</td>\n",
       "    </tr>\n",
       "  </tbody>\n",
       "</table>\n",
       "</div>"
      ],
      "text/plain": [
       "            adimplente  inadimplente  accuracy    macro avg  weighted avg\n",
       "precision     0.822748      0.826036  0.824383     0.824392      0.824392\n",
       "recall        0.827046      0.821719  0.824383     0.824382      0.824383\n",
       "f1-score      0.824891      0.823872  0.824383     0.824382      0.824382\n",
       "support    3446.000000   3444.000000  0.824383  6890.000000   6890.000000"
      ]
     },
     "execution_count": 154,
     "metadata": {},
     "output_type": "execute_result"
    }
   ],
   "source": [
    "pd.DataFrame(\n",
    "    classification_report(\n",
    "        y_test,\n",
    "        y_pred,\n",
    "        target_names= ['adimplente', 'inadimplente'],\n",
    "        output_dict=True))"
   ]
  },
  {
   "cell_type": "code",
   "execution_count": 155,
   "id": "91b57963",
   "metadata": {},
   "outputs": [
    {
     "data": {
      "image/png": "[encoded data removed]",
      "text/plain": [
       "<Figure size 432x288 with 2 Axes>"
      ]
     },
     "metadata": {
      "needs_background": "light"
     },
     "output_type": "display_data"
    }
   ],
   "source": [
    "cm = confusion_matrix(y_test,\n",
    "                      y_pred)\n",
    "\n",
    "cm_display = ConfusionMatrixDisplay(cm,\n",
    "                                    display_labels=['adimplente', 'inadimplente']).plot(values_format = '.0f')"
   ]
  },
  {
   "cell_type": "markdown",
   "id": "605f6b51",
   "metadata": {},
   "source": [
    "## Script to make the call on the endpoint"
   ]
  },
  {
   "cell_type": "code",
   "execution_count": 156,
   "id": "2aebad58",
   "metadata": {},
   "outputs": [],
   "source": [
    "import boto3\n",
    "\n",
    "endpoint_name = 'bytebankSDKEndpoint'\n",
    "\n",
    "runtime = \\\n",
    "    boto3.Session().client(\n",
    "        service_name='sagemaker-runtime',\n",
    "        region_name='us-east-1'\n",
    ")\n",
    "\n",
    "payload \\\n",
    "    = '140000,2,2,1,37,0,0,0,0,0,0,58081,51013,54343,27537,9751,12569,5000,5000,5000,3000,3000,5000'\n",
    "\n",
    "\n",
    "response = \\\n",
    "    runtime.invoke_endpoint(\n",
    "        EndpointName=endpoint_name,\n",
    "        ContentType='text/csv',\n",
    "        Body=payload\n",
    ")"
   ]
  },
  {
   "cell_type": "code",
   "execution_count": 157,
   "id": "29f06025",
   "metadata": {},
   "outputs": [
    {
     "name": "stdout",
     "output_type": "stream",
     "text": [
      "{'ResponseMetadata': {'RequestId': '799d7a9e-408b-4b59-a427-e91cb056ffed', 'HTTPStatusCode': 200, 'HTTPHeaders': {'x-amzn-requestid': '799d7a9e-408b-4b59-a427-e91cb056ffed', 'x-amzn-invoked-production-variant': 'AllTraffic', 'date': 'Thu, 21 Jul 2022 18:57:59 GMT', 'content-type': 'text/csv; charset=utf-8', 'content-length': '3'}, 'RetryAttempts': 0}, 'ContentType': 'text/csv; charset=utf-8', 'InvokedProductionVariant': 'AllTraffic', 'Body': <botocore.response.StreamingBody object at 0x7fa8aa611910>}\n"
     ]
    }
   ],
   "source": [
    "print(response)\n"
   ]
  },
  {
   "cell_type": "code",
   "execution_count": 158,
   "id": "fdb359fb",
   "metadata": {},
   "outputs": [
    {
     "name": "stdout",
     "output_type": "stream",
     "text": [
      "Crédito será inadimplente?: 0\n"
     ]
    }
   ],
   "source": [
    "predicao = int(float((response['Body'].read().decode('UTF-8'))))\n",
    "print(f'Crédito será inadimplente?: {predicao}')"
   ]
  },
  {
   "cell_type": "markdown",
   "id": "4ed775db",
   "metadata": {},
   "source": [
    "## Removal of built artifacts"
   ]
  },
  {
   "cell_type": "code",
   "execution_count": 159,
   "id": "eb517443",
   "metadata": {},
   "outputs": [
    {
     "data": {
      "text/plain": [
       "'bytebankSDKEndpoint'"
      ]
     },
     "execution_count": 159,
     "metadata": {},
     "output_type": "execute_result"
    }
   ],
   "source": [
    "model_endpoint.endpoint_name"
   ]
  },
  {
   "cell_type": "code",
   "execution_count": 160,
   "id": "b085035e",
   "metadata": {},
   "outputs": [],
   "source": [
    "session_sagemaker_sdk.delete_endpoint_config('bytebankSDKEndpoint')"
   ]
  },
  {
   "cell_type": "code",
   "execution_count": 161,
   "id": "3df5123a",
   "metadata": {},
   "outputs": [],
   "source": [
    "session_sagemaker_sdk.delete_model('bytebankPythonSDK-2021-02-15-21-43-56-913')"
   ]
  },
  {
   "cell_type": "code",
   "execution_count": 162,
   "id": "1393982c",
   "metadata": {},
   "outputs": [],
   "source": [
    "session_sagemaker_sdk.delete_endpoint('bytebankSDKEndpoint')"
   ]
  },
  {
   "cell_type": "code",
   "execution_count": null,
   "id": "ac2a1bc0",
   "metadata": {},
   "outputs": [],
   "source": []
  },
  {
   "cell_type": "code",
   "execution_count": null,
   "id": "b77e0b10",
   "metadata": {},
   "outputs": [],
   "source": []
  }
 ],
 "metadata": {
  "kernelspec": {
   "display_name": "conda_tensorflow2_p38",
   "language": "python",
   "name": "conda_tensorflow2_p38"
  },
  "language_info": {
   "codemirror_mode": {
    "name": "ipython",
    "version": 3
   },
   "file_extension": ".py",
   "mimetype": "text/x-python",
   "name": "python",
   "nbconvert_exporter": "python",
   "pygments_lexer": "ipython3",
   "version": "3.8.12"
  }
 },
 "nbformat": 4,
 "nbformat_minor": 5
}
